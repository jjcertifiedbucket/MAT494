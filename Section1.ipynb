{
 "cells": [
  {
   "cell_type": "code",
   "execution_count": 3,
   "id": "d5898203",
   "metadata": {},
   "outputs": [
    {
     "name": "stdout",
     "output_type": "stream",
     "text": [
      "mod ready\n"
     ]
    }
   ],
   "source": [
    "import numpy as np\n",
    "import scipy.linalg as la\n",
    "print('mod ready')"
   ]
  },
  {
   "cell_type": "code",
   "execution_count": 4,
   "id": "758e2428",
   "metadata": {},
   "outputs": [],
   "source": [
    "A = np.array([[3,4,3],[1,2,3],[4,2,1]])\n",
    "U, S, VT = np.linalg.svd(A)\n",
    "#L = np.linalg.cholesky(A)\n",
    "B = np.array([[1,1,1],[0,2,1],[0,0,3]])\n",
    "L = la.cholesky(B)\n",
    "u, V = la.eig(B)"
   ]
  },
  {
   "cell_type": "code",
   "execution_count": 9,
   "id": "3bf94d8c",
   "metadata": {},
   "outputs": [
    {
     "ename": "ValueError",
     "evalue": "expected matrix",
     "output_type": "error",
     "traceback": [
      "\u001b[0;31m---------------------------------------------------------------------------\u001b[0m",
      "\u001b[0;31mValueError\u001b[0m                                Traceback (most recent call last)",
      "Input \u001b[0;32mIn [9]\u001b[0m, in \u001b[0;36m<cell line: 11>\u001b[0;34m()\u001b[0m\n\u001b[1;32m      9\u001b[0m X \u001b[38;5;241m=\u001b[39m np\u001b[38;5;241m.\u001b[39mmean(A, axis \u001b[38;5;241m=\u001b[39m \u001b[38;5;241m-\u001b[39m\u001b[38;5;241m1\u001b[39m)\n\u001b[1;32m     10\u001b[0m X_noise \u001b[38;5;241m=\u001b[39m X \u001b[38;5;241m+\u001b[39m np\u001b[38;5;241m.\u001b[39mrandom\u001b[38;5;241m.\u001b[39mnormal(size \u001b[38;5;241m=\u001b[39m X\u001b[38;5;241m.\u001b[39mshape)\n\u001b[0;32m---> 11\u001b[0m U, S, VT \u001b[38;5;241m=\u001b[39m \u001b[43mla\u001b[49m\u001b[38;5;241;43m.\u001b[39;49m\u001b[43msvd\u001b[49m\u001b[43m(\u001b[49m\u001b[43mX\u001b[49m\u001b[43m)\u001b[49m\n\u001b[1;32m     12\u001b[0m S \u001b[38;5;241m=\u001b[39m np\u001b[38;5;241m.\u001b[39mdiag(S)\n\u001b[1;32m     13\u001b[0m X_appx \u001b[38;5;241m=\u001b[39m U[:,:\u001b[38;5;241m25\u001b[39m]\u001b[38;5;129m@S\u001b[39m[\u001b[38;5;241m0\u001b[39m:\u001b[38;5;241m25\u001b[39m,:\u001b[38;5;241m25\u001b[39m]\u001b[38;5;129m@VT\u001b[39m[:\u001b[38;5;241m25\u001b[39m,:]\n",
      "File \u001b[0;32m~/opt/anaconda3/lib/python3.9/site-packages/scipy/linalg/decomp_svd.py:110\u001b[0m, in \u001b[0;36msvd\u001b[0;34m(a, full_matrices, compute_uv, overwrite_a, check_finite, lapack_driver)\u001b[0m\n\u001b[1;32m    108\u001b[0m a1 \u001b[38;5;241m=\u001b[39m _asarray_validated(a, check_finite\u001b[38;5;241m=\u001b[39mcheck_finite)\n\u001b[1;32m    109\u001b[0m \u001b[38;5;28;01mif\u001b[39;00m \u001b[38;5;28mlen\u001b[39m(a1\u001b[38;5;241m.\u001b[39mshape) \u001b[38;5;241m!=\u001b[39m \u001b[38;5;241m2\u001b[39m:\n\u001b[0;32m--> 110\u001b[0m     \u001b[38;5;28;01mraise\u001b[39;00m \u001b[38;5;167;01mValueError\u001b[39;00m(\u001b[38;5;124m'\u001b[39m\u001b[38;5;124mexpected matrix\u001b[39m\u001b[38;5;124m'\u001b[39m)\n\u001b[1;32m    111\u001b[0m m, n \u001b[38;5;241m=\u001b[39m a1\u001b[38;5;241m.\u001b[39mshape\n\u001b[1;32m    112\u001b[0m overwrite_a \u001b[38;5;241m=\u001b[39m overwrite_a \u001b[38;5;129;01mor\u001b[39;00m (_datacopied(a1, a))\n",
      "\u001b[0;31mValueError\u001b[0m: expected matrix"
     ]
    }
   ],
   "source": [
    "#Calling libraries\n",
    "import numpy as np\n",
    "import scipy.linalg as la\n",
    "from matplotlib.image import imread\n",
    "import matplotlib.pyplot as plt\n",
    "\n",
    "#Importing an image\n",
    "A = imread('face.png')\n",
    "X = np.mean(A, axis = -1)\n",
    "X_noise = X + np.random.normal(size = X.shape)\n",
    "U, S, VT = la.svd(X)\n",
    "S = np.diag(S)\n",
    "X_appx = U[:,:25]@S[0:25,:25]@VT[:25,:]\n",
    "U1, S1, VT1 = la.svd(X_noise)\n",
    "S1 = np.diag(S1)\n",
    "X_appx1 = U1[:,:25]@S1[0:25,:25]@VT1[:25,:]\n"
   ]
  },
  {
   "cell_type": "code",
   "execution_count": null,
   "id": "faeca1db",
   "metadata": {},
   "outputs": [],
   "source": []
  }
 ],
 "metadata": {
  "kernelspec": {
   "display_name": "Python 3 (ipykernel)",
   "language": "python",
   "name": "python3"
  },
  "language_info": {
   "codemirror_mode": {
    "name": "ipython",
    "version": 3
   },
   "file_extension": ".py",
   "mimetype": "text/x-python",
   "name": "python",
   "nbconvert_exporter": "python",
   "pygments_lexer": "ipython3",
   "version": "3.9.12"
  }
 },
 "nbformat": 4,
 "nbformat_minor": 5
}
