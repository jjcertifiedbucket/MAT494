{
  "nbformat": 4,
  "nbformat_minor": 0,
  "metadata": {
    "colab": {
      "provenance": [],
      "authorship_tag": "ABX9TyMHK7G02Bvq5pegbX+YkpuK",
      "include_colab_link": true
    },
    "kernelspec": {
      "name": "python3",
      "display_name": "Python 3"
    },
    "language_info": {
      "name": "python"
    }
  },
  "cells": [
    {
      "cell_type": "markdown",
      "metadata": {
        "id": "view-in-github",
        "colab_type": "text"
      },
      "source": [
        "<a href=\"https://colab.research.google.com/github/justinsantacruz/MAT494/blob/main/Taylor_Series.ipynb\" target=\"_parent\"><img src=\"https://colab.research.google.com/assets/colab-badge.svg\" alt=\"Open In Colab\"/></a>"
      ]
    },
    {
      "cell_type": "code",
      "execution_count": 12,
      "metadata": {
        "id": "HUv7LL9t4rT6"
      },
      "outputs": [],
      "source": [
        "from sympy import diff, symbols, factorial, exp, pretty_print"
      ]
    },
    {
      "cell_type": "code",
      "source": [
        "x = symbols(\"x\")\n",
        "\n",
        "func = exp(x)\n",
        "n = 10\n",
        "x0 = 0\n",
        "result = func.subs(x,x0)"
      ],
      "metadata": {
        "id": "gRzLab8V5lK2"
      },
      "execution_count": 13,
      "outputs": []
    },
    {
      "cell_type": "code",
      "source": [
        "for i in range(1,n):\n",
        "    result += diff(func, x, i)*(x - x0)**i / factorial (i)\n",
        "    val = 3\n",
        "    error = (func.subs(x, val) - result.subs(x, val))/func.subs(x, val)\n",
        "    print(\"Error: \", float(error))\n",
        "\n",
        "pretty_print(result)"
      ],
      "metadata": {
        "colab": {
          "base_uri": "https://localhost:8080/"
        },
        "id": "PkR4JnvE6AS-",
        "outputId": "40965c8f-d522-4647-ed17-747a0db8bc1e"
      },
      "execution_count": 16,
      "outputs": [
        {
          "output_type": "stream",
          "name": "stdout",
          "text": [
            "Error:  -40.17657278265358\n",
            "Error:  -44.67657278265358\n",
            "Error:  -49.17657278265358\n",
            "Error:  -52.55157278265358\n",
            "Error:  -54.57657278265358\n",
            "Error:  -55.58907278265358\n",
            "Error:  -56.02300135408215\n",
            "Error:  -56.18572456836787\n",
            "Error:  -56.23996563979644\n",
            " 9  x     8  x    7  x    6  x    5  x    4  x    3  x      2  x             \n",
            "x ⋅ℯ     x ⋅ℯ    x ⋅ℯ    x ⋅ℯ    x ⋅ℯ    x ⋅ℯ    x ⋅ℯ    3⋅x ⋅ℯ         x    \n",
            "────── + ───── + ───── + ───── + ───── + ───── + ───── + ─────── + 3⋅x⋅ℯ  + 1\n",
            "120960   13440    1680    240      40      8       2        2                \n"
          ]
        }
      ]
    },
    {
      "cell_type": "code",
      "source": [],
      "metadata": {
        "id": "Y8lFQqkj66fG"
      },
      "execution_count": null,
      "outputs": []
    }
  ]
}