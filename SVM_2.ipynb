{
  "nbformat": 4,
  "nbformat_minor": 0,
  "metadata": {
    "colab": {
      "provenance": [],
      "authorship_tag": "ABX9TyPncMgVQzfDtlKMk7lsTbLJ",
      "include_colab_link": true
    },
    "kernelspec": {
      "name": "python3",
      "display_name": "Python 3"
    },
    "language_info": {
      "name": "python"
    }
  },
  "cells": [
    {
      "cell_type": "markdown",
      "metadata": {
        "id": "view-in-github",
        "colab_type": "text"
      },
      "source": [
        "<a href=\"https://colab.research.google.com/github/justinsantacruz/MAT494/blob/main/SVM_2.ipynb\" target=\"_parent\"><img src=\"https://colab.research.google.com/assets/colab-badge.svg\" alt=\"Open In Colab\"/></a>"
      ]
    },
    {
      "cell_type": "code",
      "execution_count": 1,
      "metadata": {
        "colab": {
          "base_uri": "https://localhost:8080/"
        },
        "id": "GQHvTTwMF63W",
        "outputId": "f056f0f1-170d-42a3-82a7-7097aae1f2cc"
      },
      "outputs": [
        {
          "output_type": "stream",
          "name": "stdout",
          "text": [
            "training data points: 1212\n",
            "validation data points: 135\n",
            "testing data points: 450\n"
          ]
        }
      ],
      "source": [
        "from __future__ import print_function\n",
        "from sklearn.neighbors import KNeighborsClassifier\n",
        "from sklearn.metrics import classification_report\n",
        "from sklearn import datasets\n",
        "from skimage import exposure\n",
        "import numpy as np\n",
        "import imutils\n",
        "import cv2\n",
        "import sklearn\n",
        "\n",
        "from sklearn.model_selection import train_test_split\n",
        "\n",
        "\n",
        "mnist = datasets.load_digits()\n",
        "\n",
        "\n",
        "(trainData, testData, trainLabels, testLabels) = train_test_split(np.array(mnist.data),\n",
        "\tmnist.target, test_size=0.25, random_state=42)\n",
        "\n",
        "(trainData, valData, trainLabels, valLabels) = train_test_split(trainData, trainLabels,\n",
        "\ttest_size=0.1, random_state=84)\n",
        "\n",
        "print(\"training data points: {}\".format(len(trainLabels)))\n",
        "print(\"validation data points: {}\".format(len(valLabels)))\n",
        "print(\"testing data points: {}\".format(len(testLabels)))"
      ]
    },
    {
      "cell_type": "code",
      "source": [
        "from sklearn.svm import SVC\n",
        "model = SVC(C=0.5,kernel='linear')\n",
        "model.fit(trainData, trainLabels)\n",
        "score = model.score(valData, valLabels)\n",
        "print (score*100)"
      ],
      "metadata": {
        "colab": {
          "base_uri": "https://localhost:8080/"
        },
        "id": "hZZbjcM3GB9-",
        "outputId": "6dfaefaa-7efe-4a1e-b685-588dfe7e45aa"
      },
      "execution_count": 2,
      "outputs": [
        {
          "output_type": "stream",
          "name": "stdout",
          "text": [
            "98.51851851851852\n"
          ]
        }
      ]
    },
    {
      "cell_type": "code",
      "source": [
        "# test data\n",
        "predictions = model.predict(testData)\n",
        "\n",
        "print(\"EVALUATION ON TESTING DATA\")\n",
        "report = (classification_report(testLabels, predictions,output_dict=True)) # made the output of report as dictionary\n",
        "print (report)"
      ],
      "metadata": {
        "colab": {
          "base_uri": "https://localhost:8080/"
        },
        "id": "F9WKTyPXGGv_",
        "outputId": "d995feef-a9d4-4860-a45a-259ef79b181a"
      },
      "execution_count": 4,
      "outputs": [
        {
          "output_type": "stream",
          "name": "stdout",
          "text": [
            "EVALUATION ON TESTING DATA\n",
            "{'0': {'precision': 1.0, 'recall': 1.0, 'f1-score': 1.0, 'support': 43}, '1': {'precision': 0.9487179487179487, 'recall': 1.0, 'f1-score': 0.9736842105263158, 'support': 37}, '2': {'precision': 0.9743589743589743, 'recall': 1.0, 'f1-score': 0.9870129870129869, 'support': 38}, '3': {'precision': 0.9777777777777777, 'recall': 0.9565217391304348, 'f1-score': 0.967032967032967, 'support': 46}, '4': {'precision': 0.9818181818181818, 'recall': 0.9818181818181818, 'f1-score': 0.9818181818181818, 'support': 55}, '5': {'precision': 0.9666666666666667, 'recall': 0.9830508474576272, 'f1-score': 0.9747899159663865, 'support': 59}, '6': {'precision': 0.9782608695652174, 'recall': 1.0, 'f1-score': 0.989010989010989, 'support': 45}, '7': {'precision': 1.0, 'recall': 0.975609756097561, 'f1-score': 0.9876543209876543, 'support': 41}, '8': {'precision': 1.0, 'recall': 0.9473684210526315, 'f1-score': 0.972972972972973, 'support': 38}, '9': {'precision': 0.9787234042553191, 'recall': 0.9583333333333334, 'f1-score': 0.968421052631579, 'support': 48}, 'accuracy': 0.98, 'macro avg': {'precision': 0.9806323823160087, 'recall': 0.980270227888977, 'f1-score': 0.9802397597960033, 'support': 450}, 'weighted avg': {'precision': 0.9803106194977919, 'recall': 0.98, 'f1-score': 0.9799676355261724, 'support': 450}}\n"
          ]
        }
      ]
    },
    {
      "cell_type": "code",
      "source": [
        "import seaborn as sns\n",
        "import pandas as pd\n",
        "sns.heatmap(pd.DataFrame(report).iloc[:-1, :].T, annot=True)"
      ],
      "metadata": {
        "colab": {
          "base_uri": "https://localhost:8080/",
          "height": 286
        },
        "id": "pD08r-DZGJC-",
        "outputId": "7332f660-fae6-4e97-fa8c-97e3dc6cc2fe"
      },
      "execution_count": 5,
      "outputs": [
        {
          "output_type": "execute_result",
          "data": {
            "text/plain": [
              "<matplotlib.axes._subplots.AxesSubplot at 0x7fec57939150>"
            ]
          },
          "metadata": {},
          "execution_count": 5
        },
        {
          "output_type": "display_data",
          "data": {
            "text/plain": [
              "<Figure size 432x288 with 2 Axes>"
            ],
            "image/png": "[encoded data removed]"
          },
          "metadata": {
            "needs_background": "light"
          }
        }
      ]
    },
    {
      "cell_type": "code",
      "source": [
        "from google.colab.patches import cv2_imshow\n",
        "for i in list(map(int, np.random.randint(0, high=len(testLabels), size=(5,)))):\n",
        "\t# grab the image and classify it\n",
        "\timage = testData[i]\n",
        "\n",
        "\tprediction = model.predict(image.reshape(1, -1))[0] \n",
        "\n",
        "\t# convert the image for a 64-dim array to an 8 x 8 image compatible with OpenCV,\n",
        "\t# then resize it to 32 x 32 pixels so we can see it better\n",
        "\timage = image.reshape((8, 8)).astype(\"uint8\")\n",
        "\timage = exposure.rescale_intensity(image, out_range=(0, 255))\n",
        "\timage = imutils.resize(image, width=32, inter=cv2.INTER_CUBIC)\n",
        "\n",
        "\t# show the prediction\n",
        "\tprint(\"I think that digit is: {}\".format(prediction))\n",
        "\tcv2_imshow(image)\n"
      ],
      "metadata": {
        "colab": {
          "base_uri": "https://localhost:8080/",
          "height": 264
        },
        "id": "O7m7yC-7GNf4",
        "outputId": "3cdaa53d-a7fe-499e-9573-6effdff06b06"
      },
      "execution_count": 6,
      "outputs": [
        {
          "output_type": "stream",
          "name": "stdout",
          "text": [
            "I think that digit is: 4\n"
          ]
        },
        {
          "output_type": "display_data",
          "data": {
            "text/plain": [
              "<PIL.Image.Image image mode=L size=32x32 at 0x7FEC54ACCC10>"
            ],
            "image/png": "[encoded data removed]"
          },
          "metadata": {}
        },
        {
          "output_type": "stream",
          "name": "stdout",
          "text": [
            "I think that digit is: 7\n"
          ]
        },
        {
          "output_type": "display_data",
          "data": {
            "text/plain": [
              "<PIL.Image.Image image mode=L size=32x32 at 0x7FEC54A3E750>"
            ],
            "image/png": "[encoded data removed]"
          },
          "metadata": {}
        },
        {
          "output_type": "stream",
          "name": "stdout",
          "text": [
            "I think that digit is: 0\n"
          ]
        },
        {
          "output_type": "display_data",
          "data": {
            "text/plain": [
              "<PIL.Image.Image image mode=L size=32x32 at 0x7FEC54ACCBD0>"
            ],
            "image/png": "[encoded data removed]"
          },
          "metadata": {}
        },
        {
          "output_type": "stream",
          "name": "stdout",
          "text": [
            "I think that digit is: 4\n"
          ]
        },
        {
          "output_type": "display_data",
          "data": {
            "text/plain": [
              "<PIL.Image.Image image mode=L size=32x32 at 0x7FEC54ACCC10>"
            ],
            "image/png": "[encoded data removed]"
          },
          "metadata": {}
        },
        {
          "output_type": "stream",
          "name": "stdout",
          "text": [
            "I think that digit is: 7\n"
          ]
        },
        {
          "output_type": "display_data",
          "data": {
            "text/plain": [
              "<PIL.Image.Image image mode=L size=32x32 at 0x7FEC54ACCC10>"
            ],
            "image/png": "[encoded data removed]"
          },
          "metadata": {}
        }
      ]
    },
    {
      "cell_type": "code",
      "source": [],
      "metadata": {
        "id": "OhXSRbANGPUd"
      },
      "execution_count": null,
      "outputs": []
    }
  ]
}