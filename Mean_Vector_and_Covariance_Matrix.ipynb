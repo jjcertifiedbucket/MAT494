{
  "cells": [
    {
      "cell_type": "markdown",
      "metadata": {
        "id": "view-in-github",
        "colab_type": "text"
      },
      "source": [
        "<a href=\"https://colab.research.google.com/github/justinsantacruz/MAT494/blob/main/Mean_Vector_and_Covariance_Matrix.ipynb\" target=\"_parent\"><img src=\"https://colab.research.google.com/assets/colab-badge.svg\" alt=\"Open In Colab\"/></a>"
      ]
    },
    {
      "cell_type": "code",
      "execution_count": 1,
      "id": "1ef677dd",
      "metadata": {
        "id": "1ef677dd"
      },
      "outputs": [],
      "source": [
        "import numpy as np"
      ]
    },
    {
      "cell_type": "code",
      "execution_count": 2,
      "id": "97c2036c",
      "metadata": {
        "colab": {
          "base_uri": "https://localhost:8080/"
        },
        "id": "97c2036c",
        "outputId": "a0a4e83f-dd9a-44f9-f98f-d8c662a4de03"
      },
      "outputs": [
        {
          "output_type": "stream",
          "name": "stdout",
          "text": [
            "[[ 4.31   0.094  1.599  0.634 -0.16 ]\n",
            " [ 0.094  6.961  1.984  3.656 -3.814]\n",
            " [ 1.599  1.984  7.412 -1.473 -2.258]\n",
            " [ 0.634  3.656 -1.473  4.386 -1.518]\n",
            " [-0.16  -3.814 -2.258 -1.518  2.553]]\n",
            "\n",
            "[[ 4.31   0.094  1.599  0.634 -0.16 ]\n",
            " [ 0.094  6.961  1.984  3.656 -3.814]\n",
            " [ 1.599  1.984  7.412 -1.473 -2.258]\n",
            " [ 0.634  3.656 -1.473  4.386 -1.518]\n",
            " [-0.16  -3.814 -2.258 -1.518  2.553]]\n",
            "[[-0.46930528]\n",
            " [ 0.67555409]\n",
            " [-1.81702723]\n",
            " [-0.18310854]\n",
            " [ 1.05896919]]\n"
          ]
        }
      ],
      "source": [
        "np.random.seed(1234)\n",
        "A = np.random.normal(size=(5,5))\n",
        "A = A @ A.T\n",
        "\n",
        "with np.printoptions(precision=3, suppress=True):\n",
        "    print(A)\n",
        "    \n",
        "print()\n",
        "L = np.linalg.cholesky(A)\n",
        "#print(L)\n",
        "\n",
        "with np.printoptions(precision=3, suppress=True):\n",
        "    print(L @ L.T)\n",
        "    \n",
        "b = np.random.normal(size=(5,1))\n",
        "print(b)"
      ]
    },
    {
      "cell_type": "code",
      "execution_count": 3,
      "id": "8c297193",
      "metadata": {
        "colab": {
          "base_uri": "https://localhost:8080/"
        },
        "id": "8c297193",
        "outputId": "14e0a559-471d-48f7-f964-3035d03c4746"
      },
      "outputs": [
        {
          "output_type": "stream",
          "name": "stdout",
          "text": [
            "[[1.00049833 0.4895314 ]\n",
            " [0.4895314  1.00321852]]\n"
          ]
        }
      ],
      "source": [
        "np.random.seed(20)\n",
        "\n",
        "X = np.random.normal(size = (10000,))\n",
        "Y = np.random.normal(size = (10000,))\n",
        "\n",
        "C = np.array([[1, 0.5], [0.5, 1]])\n",
        "\n",
        "X.shape = (1, X.size)\n",
        "Y.shape = (1, Y.size)\n",
        "\n",
        "XY = np.vstack((X, Y))\n",
        "\n",
        "L = np.linalg.cholesky(C)\n",
        "\n",
        "UV = L @ XY\n",
        "\n",
        "U = UV[0, :]\n",
        "V = UV[1, :]\n",
        "\n",
        "print(np.cov(U,V))"
      ]
    },
    {
      "cell_type": "code",
      "execution_count": 3,
      "id": "c2107efe",
      "metadata": {
        "id": "c2107efe"
      },
      "outputs": [],
      "source": []
    }
  ],
  "metadata": {
    "kernelspec": {
      "display_name": "Python 3 (ipykernel)",
      "language": "python",
      "name": "python3"
    },
    "language_info": {
      "codemirror_mode": {
        "name": "ipython",
        "version": 3
      },
      "file_extension": ".py",
      "mimetype": "text/x-python",
      "name": "python",
      "nbconvert_exporter": "python",
      "pygments_lexer": "ipython3",
      "version": "3.9.12"
    },
    "colab": {
      "provenance": [],
      "include_colab_link": true
    }
  },
  "nbformat": 4,
  "nbformat_minor": 5
}